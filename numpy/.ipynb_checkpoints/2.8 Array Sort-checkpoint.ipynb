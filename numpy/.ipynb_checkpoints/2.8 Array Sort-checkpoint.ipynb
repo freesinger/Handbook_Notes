{
 "cells": [
  {
   "cell_type": "code",
   "execution_count": 1,
   "metadata": {},
   "outputs": [
    {
     "name": "stdout",
     "output_type": "stream",
     "text": [
      "[6 5 4 3 2 1]\n"
     ]
    },
    {
     "data": {
      "text/plain": [
       "5"
      ]
     },
     "execution_count": 1,
     "metadata": {},
     "output_type": "execute_result"
    }
   ],
   "source": [
    "import numpy as np\n",
    "\n",
    "x = np.arange(6,0,-1)\n",
    "print(x)\n",
    "# np.argmin() return the index of min value\n",
    "np.argmin(x)"
   ]
  },
  {
   "cell_type": "code",
   "execution_count": 2,
   "metadata": {},
   "outputs": [
    {
     "data": {
      "text/plain": [
       "(2, 1)"
      ]
     },
     "execution_count": 2,
     "metadata": {},
     "output_type": "execute_result"
    }
   ],
   "source": [
    "# swap\n",
    "a, b = 1, 2\n",
    "a, b = b, a\n",
    "a,b"
   ]
  },
  {
   "cell_type": "code",
   "execution_count": 3,
   "metadata": {},
   "outputs": [
    {
     "name": "stdout",
     "output_type": "stream",
     "text": [
      "[4 5 4 9 3]\n",
      "[3 4 4 5 9]\n",
      "[3 4 4 5 9]\n",
      "11.1 µs ± 197 ns per loop (mean ± std. dev. of 7 runs, 100000 loops each)\n"
     ]
    }
   ],
   "source": [
    "# 插入排序\n",
    "def selction_sort(x):\n",
    "    # x : list of numbers needed to be sorted\n",
    "    for i in range(len(x)):\n",
    "        min = i + np.argmin(x[i:])\n",
    "        x[i], x[min] = x[min], x[i]\n",
    "    return x\n",
    "\n",
    "# np.random.randint(low, high, size)\n",
    "s = np.random.randint(10, size=5)\n",
    "print(s)\n",
    "print(selction_sort(s))\n",
    "\n",
    "# s changed\n",
    "print(s)\n",
    "%timeit selction_sort(s)"
   ]
  },
  {
   "cell_type": "code",
   "execution_count": 4,
   "metadata": {},
   "outputs": [
    {
     "name": "stdout",
     "output_type": "stream",
     "text": [
      "original: [4 7 1 4 3] sorted: [1 3 4 4 7]\n",
      "2.03 µs ± 86 ns per loop (mean ± std. dev. of 7 runs, 100000 loops each)\n",
      "[4 7 1 4 3]\n",
      "sorted indexs: [2 4 0 3 1]\n"
     ]
    }
   ],
   "source": [
    "s = np.random.randint(10, size=5)\n",
    "# np.sort 为快排\n",
    "print('original:', s, 'sorted:', np.sort(s))\n",
    "%timeit np.sort(s)\n",
    "print(s)\n",
    "\n",
    "# 返回排序完的索引\n",
    "i = np.argsort(s)\n",
    "print('sorted indexs:', i)\n",
    "\n",
    "# s will change after s.sort(), 自己调用排序会改变顺序\n",
    "# s.sort()\n",
    "# print(s)"
   ]
  },
  {
   "cell_type": "code",
   "execution_count": 5,
   "metadata": {},
   "outputs": [
    {
     "data": {
      "text/plain": [
       "array([1, 3, 4, 4, 7])"
      ]
     },
     "execution_count": 5,
     "metadata": {},
     "output_type": "execute_result"
    }
   ],
   "source": [
    "s[i]"
   ]
  },
  {
   "cell_type": "code",
   "execution_count": 6,
   "metadata": {},
   "outputs": [
    {
     "data": {
      "text/plain": [
       "array([[3, 6, 8, 9, 6],\n",
       "       [8, 7, 9, 3, 6],\n",
       "       [1, 2, 5, 5, 0],\n",
       "       [5, 0, 9, 9, 3]])"
      ]
     },
     "execution_count": 6,
     "metadata": {},
     "output_type": "execute_result"
    }
   ],
   "source": [
    "r = np.random.RandomState(23)\n",
    "X = r.randint(0, 10, (4, 5))\n",
    "X"
   ]
  },
  {
   "cell_type": "code",
   "execution_count": 7,
   "metadata": {},
   "outputs": [
    {
     "data": {
      "text/plain": [
       "array([[1, 0, 5, 3, 0],\n",
       "       [3, 2, 8, 5, 3],\n",
       "       [5, 6, 9, 9, 6],\n",
       "       [8, 7, 9, 9, 6]])"
      ]
     },
     "execution_count": 7,
     "metadata": {},
     "output_type": "execute_result"
    }
   ],
   "source": [
    "# 对X每一列排序\n",
    "np.sort(X, axis=0)"
   ]
  },
  {
   "cell_type": "code",
   "execution_count": 8,
   "metadata": {},
   "outputs": [
    {
     "data": {
      "text/plain": [
       "array([[3, 6, 6, 8, 9],\n",
       "       [3, 6, 7, 8, 9],\n",
       "       [0, 1, 2, 5, 5],\n",
       "       [0, 3, 5, 9, 9]])"
      ]
     },
     "execution_count": 8,
     "metadata": {},
     "output_type": "execute_result"
    }
   ],
   "source": [
    "# 对X每一行排序\n",
    "np.sort(X, axis=1)"
   ]
  },
  {
   "cell_type": "code",
   "execution_count": 9,
   "metadata": {},
   "outputs": [
    {
     "data": {
      "text/plain": [
       "array([5, 1, 3, 2, 7, 9])"
      ]
     },
     "execution_count": 9,
     "metadata": {},
     "output_type": "execute_result"
    }
   ],
   "source": [
    "x = np.array([7,3,1,2,5,9])\n",
    "# 最左侧为第4小值，且左侧4个数为最小的四个数，右侧值任意序列\n",
    "np.partition(x, 4)"
   ]
  },
  {
   "cell_type": "code",
   "execution_count": 10,
   "metadata": {},
   "outputs": [
    {
     "name": "stdout",
     "output_type": "stream",
     "text": [
      "[[3 6 6 9 8]\n",
      " [3 6 7 8 9]\n",
      " [0 1 2 5 5]\n",
      " [0 3 5 9 9]]\n",
      "[[3 6 8 9 6]\n",
      " [8 7 9 3 6]\n",
      " [1 2 5 5 0]\n",
      " [5 0 9 9 3]]\n"
     ]
    }
   ],
   "source": [
    "# 每行最小的两个两个数在左侧\n",
    "print(np.partition(X, 2, axis=1))\n",
    "print(X)"
   ]
  },
  {
   "cell_type": "code",
   "execution_count": 11,
   "metadata": {},
   "outputs": [
    {
     "data": {
      "text/plain": [
       "<matplotlib.collections.PathCollection at 0x12456cdd8>"
      ]
     },
     "execution_count": 11,
     "metadata": {},
     "output_type": "execute_result"
    },
    {
     "data": {
      "image/png": "[encoded data removed]",
      "text/plain": [
       "<Figure size 432x288 with 1 Axes>"
      ]
     },
     "metadata": {},
     "output_type": "display_data"
    }
   ],
   "source": [
    "# rand(): [0, 1)\n",
    "X = r.rand(10, 2)\n",
    "%matplotlib inline\n",
    "import matplotlib.pyplot as plt\n",
    "import seaborn\n",
    "seaborn.set()\n",
    "plt.scatter(X[:,0], X[:,1])"
   ]
  },
  {
   "cell_type": "code",
   "execution_count": 12,
   "metadata": {},
   "outputs": [
    {
     "data": {
      "text/plain": [
       "array([[[0.75262962, 0.57885898]],\n",
       "\n",
       "       [[0.39494098, 0.47957394]],\n",
       "\n",
       "       [[0.39094035, 0.66716199]],\n",
       "\n",
       "       [[0.75612728, 0.83368127]],\n",
       "\n",
       "       [[0.17218411, 0.21215342]],\n",
       "\n",
       "       [[0.87471452, 0.4327296 ]],\n",
       "\n",
       "       [[0.87607795, 0.47060621]],\n",
       "\n",
       "       [[0.30242789, 0.76732241]],\n",
       "\n",
       "       [[0.01034376, 0.67624331]],\n",
       "\n",
       "       [[0.47168087, 0.63416532]]])"
      ]
     },
     "execution_count": 12,
     "metadata": {},
     "output_type": "execute_result"
    }
   ],
   "source": [
    "d = X[:, np.newaxis, :]\n",
    "d"
   ]
  },
  {
   "cell_type": "code",
   "execution_count": 13,
   "metadata": {},
   "outputs": [
    {
     "name": "stdout",
     "output_type": "stream",
     "text": [
      "[[[0 1]]\n",
      "\n",
      " [[2 3]]\n",
      "\n",
      " [[4 5]]] \n",
      "shape: (3, 1, 2) \n",
      "a[0]:\n",
      " [[0 1]]\n",
      "[[[0 1]\n",
      "  [2 3]\n",
      "  [4 5]]] \n",
      "shape: (1, 3, 2) \n",
      "b[0]:\n",
      " [[0 1]\n",
      " [2 3]\n",
      " [4 5]] \n",
      "b[0][1]:\n",
      " [2 3]\n",
      "[[[ 0  0]\n",
      "  [-2 -2]\n",
      "  [-4 -4]]\n",
      "\n",
      " [[ 2  2]\n",
      "  [ 0  0]\n",
      "  [-2 -2]]\n",
      "\n",
      " [[ 4  4]\n",
      "  [ 2  2]\n",
      "  [ 0  0]]] (3, 3, 2)\n",
      "[[[ 0  0]\n",
      "  [ 4  4]\n",
      "  [16 16]]\n",
      "\n",
      " [[ 4  4]\n",
      "  [ 0  0]\n",
      "  [ 4  4]]\n",
      "\n",
      " [[16 16]\n",
      "  [ 4  4]\n",
      "  [ 0  0]]] (3, 3, 2)\n",
      "[[ 0  8 32]\n",
      " [ 8  0  8]\n",
      " [32  8  0]]\n"
     ]
    },
    {
     "data": {
      "text/plain": [
       "((3, 3), array([0, 0, 0]))"
      ]
     },
     "execution_count": 13,
     "metadata": {},
     "output_type": "execute_result"
    }
   ],
   "source": [
    "# np.newaxis set axis = 1\n",
    "a = np.arange(6).reshape(3,2)[:, np.newaxis, :]\n",
    "b = np.arange(6).reshape(3,2)[np.newaxis, :, :]\n",
    "print(a, '\\nshape:', a.shape, '\\na[0]:\\n', a[0])\n",
    "print(b, '\\nshape:', b.shape, '\\nb[0]:\\n', b[0], '\\nb[0][1]:\\n', b[0][1])\n",
    "print(a-b, (a-b).shape)\n",
    "print((a-b)**2, ((a-b)**2).shape)\n",
    "# axis=-1 指最内层array两值相加\n",
    "dist_sq = ((a-b)**2).sum(axis=-1)\n",
    "print(dist_sq)\n",
    "# np.diagonal() 查看对角线元素\n",
    "dist_sq.shape, dist_sq.diagonal()"
   ]
  },
  {
   "cell_type": "code",
   "execution_count": 14,
   "metadata": {},
   "outputs": [
    {
     "data": {
      "text/plain": [
       "(array([[0.        , 0.13779868, 0.13861655, 0.06494663, 0.47138995,\n",
       "         0.03625852, 0.02695815, 0.23820005, 0.56047199, 0.08199099],\n",
       "        [0.13779868, 0.        , 0.03520528, 0.25584754, 0.12113436,\n",
       "         0.23237704, 0.23157321, 0.09135785, 0.18659386, 0.02978751],\n",
       "        [0.13861655, 0.03520528, 0.        , 0.16109017, 0.25488709,\n",
       "         0.28899599, 0.27399267, 0.01786656, 0.14493623, 0.00760781],\n",
       "        [0.06494663, 0.25584754, 0.16109017, 0.        , 0.72728649,\n",
       "         0.17482517, 0.14621166, 0.21024663, 0.58097977, 0.12071637],\n",
       "        [0.47138995, 0.12113436, 0.25488709, 0.72728649, 0.        ,\n",
       "         0.54220282, 0.56226439, 0.32517604, 0.24157172, 0.26779235],\n",
       "        [0.03625852, 0.23237704, 0.28899599, 0.17482517, 0.54220282,\n",
       "         0.        , 0.0014365 , 0.43946433, 0.80643573, 0.20301247],\n",
       "        [0.02695815, 0.23157321, 0.27399267, 0.14621166, 0.56226439,\n",
       "         0.0014365 , 0.        , 0.41711489, 0.7917823 , 0.19028858],\n",
       "        [0.23820005, 0.09135785, 0.01786656, 0.21024663, 0.32517604,\n",
       "         0.43946433, 0.41711489, 0.        , 0.09360854, 0.04637738],\n",
       "        [0.56047199, 0.18659386, 0.14493623, 0.58097977, 0.24157172,\n",
       "         0.80643573, 0.7917823 , 0.09360854, 0.        , 0.21460248],\n",
       "        [0.08199099, 0.02978751, 0.00760781, 0.12071637, 0.26779235,\n",
       "         0.20301247, 0.19028858, 0.04637738, 0.21460248, 0.        ]]),\n",
       " array([0., 0., 0., 0., 0., 0., 0., 0., 0., 0.]))"
      ]
     },
     "execution_count": 14,
     "metadata": {},
     "output_type": "execute_result"
    }
   ],
   "source": [
    "dist_sq = np.sum((X[:,np.newaxis,:] - X[np.newaxis,:,:])**2, axis=-1)\n",
    "# 对称矩阵\n",
    "dist_sq, dist_sq.diagonal()"
   ]
  },
  {
   "cell_type": "code",
   "execution_count": 15,
   "metadata": {},
   "outputs": [
    {
     "data": {
      "text/plain": [
       "array([[0, 6, 5, 3, 9, 1, 2, 7, 4, 8],\n",
       "       [1, 9, 2, 7, 4, 0, 8, 6, 5, 3],\n",
       "       [2, 9, 7, 1, 0, 8, 3, 4, 6, 5],\n",
       "       [3, 0, 9, 6, 2, 5, 7, 1, 8, 4],\n",
       "       [4, 1, 8, 2, 9, 7, 0, 5, 6, 3],\n",
       "       [5, 6, 0, 3, 9, 1, 2, 7, 4, 8],\n",
       "       [6, 5, 0, 3, 9, 1, 2, 7, 4, 8],\n",
       "       [7, 2, 9, 1, 8, 3, 0, 4, 6, 5],\n",
       "       [8, 7, 2, 1, 9, 4, 0, 3, 6, 5],\n",
       "       [9, 2, 1, 7, 0, 3, 6, 5, 8, 4]])"
      ]
     },
     "execution_count": 15,
     "metadata": {},
     "output_type": "execute_result"
    }
   ],
   "source": [
    "nearest = np.argsort(dist_sq, axis=1)\n",
    "nearest"
   ]
  },
  {
   "cell_type": "code",
   "execution_count": 16,
   "metadata": {},
   "outputs": [
    {
     "data": {
      "text/plain": [
       "array([[6, 0, 5, 3, 9, 1, 2, 7, 8, 4],\n",
       "       [1, 9, 2, 7, 4, 5, 6, 3, 8, 0],\n",
       "       [2, 9, 7, 1, 0, 5, 6, 3, 8, 4],\n",
       "       [3, 0, 9, 6, 2, 5, 1, 7, 8, 4],\n",
       "       [4, 1, 8, 2, 9, 5, 6, 7, 3, 0],\n",
       "       [6, 5, 0, 3, 9, 1, 2, 7, 8, 4],\n",
       "       [6, 5, 0, 3, 9, 1, 2, 7, 8, 4],\n",
       "       [7, 2, 9, 1, 8, 3, 0, 6, 5, 4],\n",
       "       [8, 7, 2, 1, 9, 4, 6, 5, 3, 0],\n",
       "       [2, 9, 1, 7, 0, 5, 6, 3, 8, 4]])"
      ]
     },
     "execution_count": 16,
     "metadata": {},
     "output_type": "execute_result"
    }
   ],
   "source": [
    "K = 2\n",
    "nearest_partition = np.argpartition(dist_sq, K + 1, axis=1)\n",
    "nearest_partition"
   ]
  },
  {
   "cell_type": "code",
   "execution_count": 17,
   "metadata": {},
   "outputs": [
    {
     "data": {
      "text/plain": [
       "<matplotlib.collections.PathCollection at 0x12466d080>"
      ]
     },
     "execution_count": 17,
     "metadata": {},
     "output_type": "execute_result"
    },
    {
     "data": {
      "image/png": "[encoded data removed]",
      "text/plain": [
       "<Figure size 432x288 with 1 Axes>"
      ]
     },
     "metadata": {
      "needs_background": "light"
     },
     "output_type": "display_data"
    }
   ],
   "source": [
    "plt.scatter(X[:, 0], X[:, 1], s=100)"
   ]
  },
  {
   "cell_type": "code",
   "execution_count": 18,
   "metadata": {},
   "outputs": [
    {
     "data": {
      "image/png": "[encoded data removed]",
      "text/plain": [
       "<Figure size 432x288 with 1 Axes>"
      ]
     },
     "metadata": {
      "needs_background": "light"
     },
     "output_type": "display_data"
    }
   ],
   "source": [
    "plt.scatter(X[:, 0], X[:, 1], s=100)\n",
    "K = 2\n",
    "for i in range(X.shape[0]):\n",
    "    for j in nearest_partition[i, :K+1]:\n",
    "        # 连接X[i]和X[j]\n",
    "        # *zip实现\n",
    "        plt.plot(*zip(X[i], X[j]), color='red')"
   ]
  },
  {
   "cell_type": "markdown",
   "metadata": {},
   "source": [
    "向量化操作相比于对数据进行循环遍历的优势十分大，首先运算维度降低，其次前者对数据量不敏感，可以轻松处理任意维度的数据而不需要修改代码。"
   ]
  }
 ],
 "metadata": {
  "kernelspec": {
   "display_name": "Python 3",
   "language": "python",
   "name": "python3"
  },
  "language_info": {
   "codemirror_mode": {
    "name": "ipython",
    "version": 3
   },
   "file_extension": ".py",
   "mimetype": "text/x-python",
   "name": "python",
   "nbconvert_exporter": "python",
   "pygments_lexer": "ipython3",
   "version": "3.6.7"
  }
 },
 "nbformat": 4,
 "nbformat_minor": 2
}

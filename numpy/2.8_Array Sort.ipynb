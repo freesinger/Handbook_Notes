{
 "cells": [
  {
   "cell_type": "code",
   "execution_count": 1,
   "metadata": {},
   "outputs": [
    {
     "name": "stdout",
     "output_type": "stream",
     "text": [
      "[6 5 4 3 2 1]\n"
     ]
    },
    {
     "data": {
      "text/plain": [
       "5"
      ]
     },
     "execution_count": 1,
     "metadata": {},
     "output_type": "execute_result"
    }
   ],
   "source": [
    "import numpy as np\n",
    "\n",
    "x = np.arange(6,0,-1)\n",
    "print(x)\n",
    "# np.argmin() return the index of min value\n",
    "np.argmin(x)"
   ]
  },
  {
   "cell_type": "code",
   "execution_count": 2,
   "metadata": {},
   "outputs": [
    {
     "data": {
      "text/plain": [
       "(2, 1)"
      ]
     },
     "execution_count": 2,
     "metadata": {},
     "output_type": "execute_result"
    }
   ],
   "source": [
    "# swap\n",
    "a, b = 1, 2\n",
    "a, b = b, a\n",
    "a,b"
   ]
  },
  {
   "cell_type": "code",
   "execution_count": 3,
   "metadata": {},
   "outputs": [
    {
     "name": "stdout",
     "output_type": "stream",
     "text": [
      "[7 2 2 8 5]\n",
      "[2 2 5 7 8]\n",
      "[2 2 5 7 8]\n",
      "10.3 µs ± 108 ns per loop (mean ± std. dev. of 7 runs, 100000 loops each)\n"
     ]
    }
   ],
   "source": [
    "# 插入排序\n",
    "def selction_sort(x):\n",
    "    # x : list of numbers needed to be sorted\n",
    "    for i in range(len(x)):\n",
    "        min = i + np.argmin(x[i:])\n",
    "        x[i], x[min] = x[min], x[i]\n",
    "    return x\n",
    "\n",
    "# np.random.randint(low, high, size)\n",
    "s = np.random.randint(10, size=5)\n",
    "print(s)\n",
    "print(selction_sort(s))\n",
    "\n",
    "# s changed\n",
    "print(s)\n",
    "%timeit selction_sort(s)"
   ]
  },
  {
   "cell_type": "code",
   "execution_count": 4,
   "metadata": {},
   "outputs": [
    {
     "name": "stdout",
     "output_type": "stream",
     "text": [
      "original: [1 4 7 9 7] sorted: [1 4 7 7 9]\n",
      "2.02 µs ± 66.9 ns per loop (mean ± std. dev. of 7 runs, 100000 loops each)\n",
      "[1 4 7 9 7]\n",
      "sorted indexs: [0 1 2 4 3]\n"
     ]
    }
   ],
   "source": [
    "s = np.random.randint(10, size=5)\n",
    "# np.sort 为快排\n",
    "print('original:', s, 'sorted:', np.sort(s))\n",
    "%timeit np.sort(s)\n",
    "print(s)\n",
    "\n",
    "# 返回排序完的索引\n",
    "i = np.argsort(s)\n",
    "print('sorted indexs:', i)\n",
    "\n",
    "# s will change after s.sort(), 自己调用排序会改变顺序\n",
    "# s.sort()\n",
    "# print(s)"
   ]
  },
  {
   "cell_type": "code",
   "execution_count": 5,
   "metadata": {},
   "outputs": [
    {
     "data": {
      "text/plain": [
       "array([1, 4, 7, 7, 9])"
      ]
     },
     "execution_count": 5,
     "metadata": {},
     "output_type": "execute_result"
    }
   ],
   "source": [
    "s[i]"
   ]
  },
  {
   "cell_type": "code",
   "execution_count": 6,
   "metadata": {},
   "outputs": [
    {
     "data": {
      "text/plain": [
       "array([[3, 6, 8, 9, 6],\n",
       "       [8, 7, 9, 3, 6],\n",
       "       [1, 2, 5, 5, 0],\n",
       "       [5, 0, 9, 9, 3]])"
      ]
     },
     "execution_count": 6,
     "metadata": {},
     "output_type": "execute_result"
    }
   ],
   "source": [
    "r = np.random.RandomState(23)\n",
    "X = r.randint(0, 10, (4, 5))\n",
    "X"
   ]
  },
  {
   "cell_type": "code",
   "execution_count": 7,
   "metadata": {},
   "outputs": [
    {
     "data": {
      "text/plain": [
       "array([[1, 0, 5, 3, 0],\n",
       "       [3, 2, 8, 5, 3],\n",
       "       [5, 6, 9, 9, 6],\n",
       "       [8, 7, 9, 9, 6]])"
      ]
     },
     "execution_count": 7,
     "metadata": {},
     "output_type": "execute_result"
    }
   ],
   "source": [
    "# 对X每一列排序\n",
    "np.sort(X, axis=0)"
   ]
  },
  {
   "cell_type": "code",
   "execution_count": 8,
   "metadata": {},
   "outputs": [
    {
     "data": {
      "text/plain": [
       "array([[3, 6, 6, 8, 9],\n",
       "       [3, 6, 7, 8, 9],\n",
       "       [0, 1, 2, 5, 5],\n",
       "       [0, 3, 5, 9, 9]])"
      ]
     },
     "execution_count": 8,
     "metadata": {},
     "output_type": "execute_result"
    }
   ],
   "source": [
    "# 对X每一行排序\n",
    "np.sort(X, axis=1)"
   ]
  },
  {
   "cell_type": "code",
   "execution_count": null,
   "metadata": {},
   "outputs": [],
   "source": []
  }
 ],
 "metadata": {
  "kernelspec": {
   "display_name": "Python 3",
   "language": "python",
   "name": "python3"
  },
  "language_info": {
   "codemirror_mode": {
    "name": "ipython",
    "version": 3
   },
   "file_extension": ".py",
   "mimetype": "text/x-python",
   "name": "python",
   "nbconvert_exporter": "python",
   "pygments_lexer": "ipython3",
   "version": "3.6.7"
  }
 },
 "nbformat": 4,
 "nbformat_minor": 2
}
